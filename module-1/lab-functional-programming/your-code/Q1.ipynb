{
 "cells": [
  {
   "cell_type": "markdown",
   "metadata": {},
   "source": [
    "In the cell below, create a Python function that wraps your previous solution for the Bag of Words lab.\n",
    "\n",
    "Requirements:\n",
    "\n",
    "1. Your function should accept the following parameters:\n",
    "    * `docs` [REQUIRED] - array of document paths.\n",
    "    * `stop_words` [OPTIONAL] - array of stop words. The default value is an empty array.\n",
    "\n",
    "1. Your function should return a Python object that contains the following:\n",
    "    * `bag_of_words` - array of strings of normalized unique words in the corpus.\n",
    "    * `term_freq` - array of the term-frequency vectors."
   ]
  },
  {
   "cell_type": "code",
   "execution_count": 2,
   "metadata": {},
   "outputs": [],
   "source": [
    "# Import required libraries\n",
    "\n",
    "\n",
    "from string import punctuation\n",
    "\n",
    "# Define function\n",
    "def get_bow_from_docs(docs, stop_words=[]):\n",
    "        corpus = []\n",
    "        bag_of_words = []\n",
    "        term_freq = []\n",
    "        # In the function, first define the variables you will use such as `corpus`, `bag_of_words`, and `term_freq`.\n",
    "\n",
    "        for doc in docs:\n",
    "            f = open(doc, 'r')\n",
    "            s = f.read()\n",
    "            s = ''.join(c for c in s if c not in punctuation)\n",
    "            corpus.append(s.lower())\n",
    "            f.close()\n",
    "\n",
    "\n",
    "        for s in corpus:\n",
    "            s = ''.join(c for c in s if c not in punctuation)\n",
    "            terms = s.split()\n",
    "            for term in terms:\n",
    "                if term in stop_words:\n",
    "                    continue\n",
    "                elif not term in bag_of_words:\n",
    "                    bag_of_words.append(term)\n",
    "                          \n",
    "\n",
    "        for s in corpus:\n",
    "            freq = []\n",
    "            terms = s.split()\n",
    "            for word in bag_of_words:\n",
    "                freq.append(terms.count(word))\n",
    "            term_freq.append(freq)\n",
    "\n",
    "\n",
    "        return {\n",
    "            \"bag_of_words\": bag_of_words,\n",
    "            \"term_freq\": term_freq\n",
    "        }\n",
    "    "
   ]
  },
  {
   "cell_type": "markdown",
   "metadata": {},
   "source": [
    "Test your function without stop words. You should see the output like below:\n",
    "\n",
    "```{'bag_of_words': ['ironhack', 'is', 'cool', 'i', 'love', 'am', 'a', 'student', 'at'], 'term_freq': [[1, 1, 1, 0, 0, 0, 0, 0, 0], [1, 0, 0, 1, 1, 0, 0, 0, 0], [1, 0, 0, 1, 0, 1, 1, 1, 1]]}```"
   ]
  },
  {
   "cell_type": "code",
   "execution_count": 3,
   "metadata": {},
   "outputs": [
    {
     "name": "stdout",
     "output_type": "stream",
     "text": [
      "{'bag_of_words': ['ironhack', 'is', 'cool', 'i', 'love', 'am', 'a', 'student', 'at'], 'term_freq': [[1, 1, 1, 0, 0, 0, 0, 0, 0], [1, 0, 0, 1, 1, 0, 0, 0, 0], [1, 0, 0, 1, 0, 1, 1, 1, 1]]}\n"
     ]
    }
   ],
   "source": [
    "# Define doc paths array\n",
    "docs =[\"../../lab-string-operations/your-code/doc1.txt\",\n",
    "       \"../../lab-string-operations/your-code/doc2.txt\",\n",
    "       \"../../lab-string-operations/your-code/doc3.txt\"]\n",
    "\n",
    "\n",
    "# Obtain BoW from your function\n",
    "bow = get_bow_from_docs(docs)\n",
    "\n",
    "# Print BoW\n",
    "print(bow)"
   ]
  },
  {
   "cell_type": "markdown",
   "metadata": {},
   "source": [
    "If your attempt above is successful, nice work done!\n",
    "\n",
    "Now test your function again with the stop words. In the previous lab we defined the stop words in a large array. In this lab, we'll import the stop words from Scikit-Learn."
   ]
  },
  {
   "cell_type": "code",
   "execution_count": 6,
   "metadata": {},
   "outputs": [
    {
     "name": "stdout",
     "output_type": "stream",
     "text": [
      "frozenset({'throughout', 'enough', 'top', 'take', 'how', 'none', 'us', 'his', 'into', 'anything', 'therein', 'around', 'bill', 'became', 'must', 'anyone', 'mostly', 'last', 'put', 'if', 'back', 'have', 'either', 'and', 'am', 'most', 'anyway', 'whenever', 'eleven', 'me', 'with', 'might', 'eg', 'give', 'that', 'than', 'amount', 'full', 'something', 'down', 'out', 'since', 'however', 'herein', 'seem', 'thru', 'they', 'two', 'where', 'on', 'less', 'thereby', 'should', 'still', 'mill', 'become', 'herself', 'alone', 'seemed', 'de', 'seeming', 'ourselves', 'in', 'everything', 'very', 'along', 'several', 'she', 'side', 'an', 'all', 'himself', 'elsewhere', 'he', 'namely', 'off', 'towards', 'otherwise', 'any', 'her', 'had', 'go', 'was', 'i', 'over', 'perhaps', 'been', 'do', 'as', 'be', 'behind', 'nor', 'move', 'via', 'much', 'there', 'first', 'these', 'whoever', 'same', 'so', 'because', 'thereafter', 'of', 'whither', 'our', 'can', 'when', 'empty', 'to', 'every', 'nine', 'whereas', 'themselves', 'please', 'latterly', 'third', 'anyhow', 'five', 'whatever', 'now', 'often', 'moreover', 'find', 'cannot', 'some', 'noone', 'the', 'would', 'were', 'among', 'co', 'thereupon', 'always', 'against', 'sixty', 'while', 'fill', 'also', 'your', 'name', 'one', 'part', 'too', 'etc', 'else', 'three', 'but', 'own', 'itself', 'another', 'rather', 'besides', 'un', 'twenty', 'it', 'myself', 'somehow', 'before', 'during', 'never', 'yourselves', 'indeed', 'others', 'without', 'keep', 'being', 'once', 'at', 'fifty', 'front', 'nowhere', 'nobody', 'see', 'thus', 'cant', 'six', 'fire', 'nevertheless', 'between', 'everyone', 'ever', 'is', 'formerly', 'my', 'hasnt', 'mine', 'sometimes', 'by', 'many', 'whence', 'next', 'together', 'done', 'least', 'yet', 'what', 'such', 'bottom', 'ours', 'whether', 'ie', 'call', 'serious', 'already', 'from', 'hereafter', 'within', 'system', 'forty', 'we', 'hers', 'hence', 'four', 'upon', 'ltd', 'further', 'may', 'could', 'those', 'wherein', 'seems', 'no', 'above', 'cry', 'sincere', 'whereupon', 'are', 'after', 'eight', 'therefore', 'yours', 'beforehand', 'everywhere', 'even', 'neither', 'has', 'thick', 'thence', 'both', 'amoungst', 'former', 'twelve', 'describe', 'which', 'hundred', 'show', 'again', 'who', 'whereafter', 'across', 'beside', 'except', 'wherever', 'although', 'onto', 'will', 'a', 'sometime', 'whom', 'through', 'why', 'whose', 'amongst', 'other', 'meanwhile', 'fifteen', 'each', 'until', 'latter', 'inc', 'interest', 'thin', 'their', 'yourself', 'made', 'not', 'found', 'here', 'its', 'him', 'due', 'hereupon', 'you', 'then', 'couldnt', 'though', 'toward', 'beyond', 'only', 'below', 'becomes', 'under', 'afterwards', 'anywhere', 'somewhere', 'this', 'well', 'hereby', 'for', 'few', 'per', 'detail', 'get', 'ten', 'whole', 'up', 'con', 'whereby', 'or', 'them', 'nothing', 'more', 'almost', 'about', 'someone', 're', 'becoming'})\n"
     ]
    }
   ],
   "source": [
    "from sklearn.feature_extraction import stop_words\n",
    "print(stop_words.ENGLISH_STOP_WORDS)"
   ]
  },
  {
   "cell_type": "markdown",
   "metadata": {},
   "source": [
    "You should have seen a large list of words that looks like:\n",
    "\n",
    "```frozenset({'across', 'mine', 'cannot', ...})```\n",
    "\n",
    "`frozenset` is a type of Python object that is immutable. In this lab you can use it just like an array without conversion."
   ]
  },
  {
   "cell_type": "markdown",
   "metadata": {},
   "source": [
    "Next, test your function with supplying `stop_words.ENGLISH_STOP_WORDS` as the second parameter."
   ]
  },
  {
   "cell_type": "code",
   "execution_count": 7,
   "metadata": {},
   "outputs": [
    {
     "name": "stdout",
     "output_type": "stream",
     "text": [
      "{'bag_of_words': ['ironhack', 'cool', 'love', 'student'], 'term_freq': [[1, 1, 0, 0], [1, 0, 1, 0], [1, 0, 0, 1]]}\n"
     ]
    }
   ],
   "source": [
    "bow = get_bow_from_docs(docs, stop_words.ENGLISH_STOP_WORDS)\n",
    "\n",
    "print(bow)"
   ]
  },
  {
   "cell_type": "markdown",
   "metadata": {},
   "source": [
    "You should have seen:\n",
    "\n",
    "```{'bag_of_words': ['ironhack', 'cool', 'love', 'student'], 'term_freq': [[1, 1, 0, 0], [1, 0, 1, 0], [1, 0, 0, 1]]}```"
   ]
  },
  {
   "cell_type": "code",
   "execution_count": null,
   "metadata": {},
   "outputs": [],
   "source": []
  }
 ],
 "metadata": {
  "kernelspec": {
   "display_name": "Python 3",
   "language": "python",
   "name": "python3"
  },
  "language_info": {
   "codemirror_mode": {
    "name": "ipython",
    "version": 3
   },
   "file_extension": ".py",
   "mimetype": "text/x-python",
   "name": "python",
   "nbconvert_exporter": "python",
   "pygments_lexer": "ipython3",
   "version": "3.7.3"
  }
 },
 "nbformat": 4,
 "nbformat_minor": 2
}
