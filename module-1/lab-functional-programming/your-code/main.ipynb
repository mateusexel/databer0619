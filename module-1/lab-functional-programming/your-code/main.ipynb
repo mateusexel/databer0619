{
 "cells": [
  {
   "cell_type": "markdown",
   "metadata": {},
   "source": [
    "# Before your start:\n",
    "- Read the README.md file\n",
    "- Comment as much as you can and use the resources in the README.md file\n",
    "- Happy learning!"
   ]
  },
  {
   "cell_type": "code",
   "execution_count": 1,
   "metadata": {},
   "outputs": [],
   "source": [
    "import numpy as np\n",
    "import pandas as pd"
   ]
  },
  {
   "cell_type": "markdown",
   "metadata": {},
   "source": [
    "# Challenge 1 - Iterators, Generators and `yield`. \n",
    "\n",
    "In iterator in Python is an object that represents a stream of data. However, iterators contain a countable number of values. We traverse through the iterator and return one value at a time. All iterators support a `next` function that allows us to traverse through the iterator. We can create an iterator using the `iter` function that comes with the base package of Python. Below is an example of an iterator."
   ]
  },
  {
   "cell_type": "code",
   "execution_count": 2,
   "metadata": {},
   "outputs": [
    {
     "name": "stdout",
     "output_type": "stream",
     "text": [
      "1\n"
     ]
    }
   ],
   "source": [
    "# We first define our iterator:\n",
    "\n",
    "iterator = iter([1,2,3])\n",
    "\n",
    "# We can now iterate through the object using the next function\n",
    "\n",
    "print(next(iterator))"
   ]
  },
  {
   "cell_type": "code",
   "execution_count": 3,
   "metadata": {},
   "outputs": [
    {
     "name": "stdout",
     "output_type": "stream",
     "text": [
      "2\n"
     ]
    }
   ],
   "source": [
    "# We continue to iterate through the iterator.\n",
    "\n",
    "print(next(iterator))"
   ]
  },
  {
   "cell_type": "code",
   "execution_count": 4,
   "metadata": {},
   "outputs": [
    {
     "name": "stdout",
     "output_type": "stream",
     "text": [
      "3\n"
     ]
    }
   ],
   "source": [
    "print(next(iterator))"
   ]
  },
  {
   "cell_type": "code",
   "execution_count": 5,
   "metadata": {},
   "outputs": [
    {
     "ename": "StopIteration",
     "evalue": "",
     "output_type": "error",
     "traceback": [
      "\u001b[1;31m---------------------------------------------------------------------------\u001b[0m",
      "\u001b[1;31mStopIteration\u001b[0m                             Traceback (most recent call last)",
      "\u001b[1;32m<ipython-input-5-91070dc82d50>\u001b[0m in \u001b[0;36m<module>\u001b[1;34m()\u001b[0m\n\u001b[0;32m      1\u001b[0m \u001b[1;31m# After we have iterated through all elements, we will get a StopIteration Error\u001b[0m\u001b[1;33m\u001b[0m\u001b[1;33m\u001b[0m\u001b[0m\n\u001b[0;32m      2\u001b[0m \u001b[1;33m\u001b[0m\u001b[0m\n\u001b[1;32m----> 3\u001b[1;33m \u001b[0mprint\u001b[0m\u001b[1;33m(\u001b[0m\u001b[0mnext\u001b[0m\u001b[1;33m(\u001b[0m\u001b[0miterator\u001b[0m\u001b[1;33m)\u001b[0m\u001b[1;33m)\u001b[0m\u001b[1;33m\u001b[0m\u001b[0m\n\u001b[0m",
      "\u001b[1;31mStopIteration\u001b[0m: "
     ]
    }
   ],
   "source": [
    "# After we have iterated through all elements, we will get a StopIteration Error\n",
    "\n",
    "print(next(iterator))"
   ]
  },
  {
   "cell_type": "code",
   "execution_count": 6,
   "metadata": {},
   "outputs": [
    {
     "name": "stdout",
     "output_type": "stream",
     "text": [
      "1\n",
      "2\n",
      "3\n"
     ]
    }
   ],
   "source": [
    "# We can also iterate through an iterator using a for loop like this:\n",
    "# Note: we cannot go back directly in an iterator once we have traversed through the elements. \n",
    "# This is why we are redefining the iterator below\n",
    "\n",
    "iterator = iter([1,2,3])\n",
    "\n",
    "for i in iterator:\n",
    "    print(i)"
   ]
  },
  {
   "cell_type": "markdown",
   "metadata": {},
   "source": [
    "In the cell below, write a function that takes an iterator and returns the first element in the iterator and returns the first element in the iterator that is divisible by 2. Assume that all iterators contain only numeric data. If we have not found a single element that is divisible by 2, return zero."
   ]
  },
  {
   "cell_type": "code",
   "execution_count": 31,
   "metadata": {},
   "outputs": [
    {
     "data": {
      "text/plain": [
       "0"
      ]
     },
     "execution_count": 31,
     "metadata": {},
     "output_type": "execute_result"
    }
   ],
   "source": [
    "def divisible2(iterator):\n",
    "    div = [] \n",
    "    for i in iterator:\n",
    "#         first=iterator([0])      \n",
    "        if i % 2 == 0:\n",
    "            div.append(i)\n",
    "    if len(div)==0:\n",
    "        return 0\n",
    "    else:\n",
    "        return min(div)\n",
    "\n",
    "    \n",
    "    # This function takes an iterable and returns the first element that is divisible by 2 and zero otherwise\n",
    "    # Input: Iterable\n",
    "    # Output: Integer\n",
    "divisible2(iter([1,7,3,5]))\n",
    "    # Sample Input: iter([1,2,3])\n",
    "    # Sample Output: 2\n",
    "    \n",
    "    # Your code here:\n",
    "    "
   ]
  },
  {
   "cell_type": "markdown",
   "metadata": {},
   "source": [
    "### Generators\n",
    "\n",
    "It is quite difficult to create your own iterator since you would have to implement a `next` function. Generators are functions that enable us to create iterators. The difference between a function and a generator is that instead of using `return`, we use `yield`. For example, below we have a function that returns an iterator containing the numbers 0 through n:"
   ]
  },
  {
   "cell_type": "code",
   "execution_count": 10,
   "metadata": {},
   "outputs": [],
   "source": [
    "def firstn(n):\n",
    "     number = 0\n",
    "     while number < n:\n",
    "         yield number\n",
    "         number = number + 1"
   ]
  },
  {
   "cell_type": "markdown",
   "metadata": {},
   "source": [
    "If we pass 5 to the function, we will see that we have a iterator containing the numbers 0 through 4."
   ]
  },
  {
   "cell_type": "code",
   "execution_count": 12,
   "metadata": {},
   "outputs": [
    {
     "name": "stdout",
     "output_type": "stream",
     "text": [
      "0\n",
      "1\n",
      "2\n",
      "3\n",
      "4\n"
     ]
    }
   ],
   "source": [
    "iterator = firstn(5)\n",
    "\n",
    "for i in iterator:\n",
    "    print(i)"
   ]
  },
  {
   "cell_type": "markdown",
   "metadata": {},
   "source": [
    "In the cell below, create a generator that takes a number and returns an iterator containing all even numbers between 0 and the number you passed to the generator."
   ]
  },
  {
   "cell_type": "code",
   "execution_count": 35,
   "metadata": {},
   "outputs": [
    {
     "name": "stdout",
     "output_type": "stream",
     "text": [
      "0\n",
      "2\n",
      "4\n"
     ]
    }
   ],
   "source": [
    "def even_iterator(n):\n",
    "    number = 0\n",
    "    while number < n:\n",
    "         yield number\n",
    "         number = number + 2\n",
    "    \n",
    "    # This function produces an iterator containing all even numbers between 0 and n\n",
    "    # Input: integer\n",
    "    # Output: iterator\n",
    "    \n",
    "    # Sample Input: 5\n",
    "    # Sample Output: iter([0, 2, 4])\n",
    "    \n",
    "    # Your code here:\n",
    "iterator = even_iterator(5)\n",
    "for i in iterator:\n",
    "    print(i)"
   ]
  },
  {
   "cell_type": "markdown",
   "metadata": {},
   "source": [
    "# Challenge 2 - Applying Functions to DataFrames\n",
    "\n",
    "In this challenge, we will look at how to transform cells or entire columns at once.\n",
    "\n",
    "First, let's load a dataset. We will download the famous Iris classification dataset in the cell below."
   ]
  },
  {
   "cell_type": "code",
   "execution_count": 39,
   "metadata": {},
   "outputs": [],
   "source": [
    "import pandas as pd\n",
    "import numpy as np\n",
    "columns = ['sepal_length', 'sepal_width', 'petal_length','petal_width','iris_type']\n",
    "iris = pd.read_csv(\"https://archive.ics.uci.edu/ml/machine-learning-databases/iris/iris.data\", names=columns)"
   ]
  },
  {
   "cell_type": "markdown",
   "metadata": {},
   "source": [
    "Let's look at the dataset using the `head` function."
   ]
  },
  {
   "cell_type": "code",
   "execution_count": 40,
   "metadata": {},
   "outputs": [
    {
     "data": {
      "text/html": [
       "<div>\n",
       "<style scoped>\n",
       "    .dataframe tbody tr th:only-of-type {\n",
       "        vertical-align: middle;\n",
       "    }\n",
       "\n",
       "    .dataframe tbody tr th {\n",
       "        vertical-align: top;\n",
       "    }\n",
       "\n",
       "    .dataframe thead th {\n",
       "        text-align: right;\n",
       "    }\n",
       "</style>\n",
       "<table border=\"1\" class=\"dataframe\">\n",
       "  <thead>\n",
       "    <tr style=\"text-align: right;\">\n",
       "      <th></th>\n",
       "      <th>sepal_length</th>\n",
       "      <th>sepal_width</th>\n",
       "      <th>petal_length</th>\n",
       "      <th>petal_width</th>\n",
       "      <th>iris_type</th>\n",
       "    </tr>\n",
       "  </thead>\n",
       "  <tbody>\n",
       "    <tr>\n",
       "      <th>0</th>\n",
       "      <td>5.1</td>\n",
       "      <td>3.5</td>\n",
       "      <td>1.4</td>\n",
       "      <td>0.2</td>\n",
       "      <td>Iris-setosa</td>\n",
       "    </tr>\n",
       "    <tr>\n",
       "      <th>1</th>\n",
       "      <td>4.9</td>\n",
       "      <td>3.0</td>\n",
       "      <td>1.4</td>\n",
       "      <td>0.2</td>\n",
       "      <td>Iris-setosa</td>\n",
       "    </tr>\n",
       "    <tr>\n",
       "      <th>2</th>\n",
       "      <td>4.7</td>\n",
       "      <td>3.2</td>\n",
       "      <td>1.3</td>\n",
       "      <td>0.2</td>\n",
       "      <td>Iris-setosa</td>\n",
       "    </tr>\n",
       "    <tr>\n",
       "      <th>3</th>\n",
       "      <td>4.6</td>\n",
       "      <td>3.1</td>\n",
       "      <td>1.5</td>\n",
       "      <td>0.2</td>\n",
       "      <td>Iris-setosa</td>\n",
       "    </tr>\n",
       "    <tr>\n",
       "      <th>4</th>\n",
       "      <td>5.0</td>\n",
       "      <td>3.6</td>\n",
       "      <td>1.4</td>\n",
       "      <td>0.2</td>\n",
       "      <td>Iris-setosa</td>\n",
       "    </tr>\n",
       "  </tbody>\n",
       "</table>\n",
       "</div>"
      ],
      "text/plain": [
       "   sepal_length  sepal_width  petal_length  petal_width    iris_type\n",
       "0           5.1          3.5           1.4          0.2  Iris-setosa\n",
       "1           4.9          3.0           1.4          0.2  Iris-setosa\n",
       "2           4.7          3.2           1.3          0.2  Iris-setosa\n",
       "3           4.6          3.1           1.5          0.2  Iris-setosa\n",
       "4           5.0          3.6           1.4          0.2  Iris-setosa"
      ]
     },
     "execution_count": 40,
     "metadata": {},
     "output_type": "execute_result"
    }
   ],
   "source": [
    "# Your code here:\n",
    "iris.head()\n",
    "\n"
   ]
  },
  {
   "cell_type": "markdown",
   "metadata": {},
   "source": [
    "Let's start off by using built-in functions. Try to apply the numpy mean function and describe what happens in the comments of the code."
   ]
  },
  {
   "cell_type": "code",
   "execution_count": 46,
   "metadata": {},
   "outputs": [
    {
     "data": {
      "text/plain": [
       "sepal_length    5.843333\n",
       "sepal_width     3.054000\n",
       "petal_length    3.758667\n",
       "petal_width     1.198667\n",
       "dtype: float64"
      ]
     },
     "execution_count": 46,
     "metadata": {},
     "output_type": "execute_result"
    }
   ],
   "source": [
    "# Your code here:\n",
    "iris.mean()\n"
   ]
  },
  {
   "cell_type": "markdown",
   "metadata": {},
   "source": [
    "Next, we'll apply the standard deviation function in numpy (`np.std`). Describe what happened in the comments."
   ]
  },
  {
   "cell_type": "code",
   "execution_count": 47,
   "metadata": {},
   "outputs": [
    {
     "data": {
      "text/plain": [
       "sepal_length    0.828066\n",
       "sepal_width     0.433594\n",
       "petal_length    1.764420\n",
       "petal_width     0.763161\n",
       "dtype: float64"
      ]
     },
     "execution_count": 47,
     "metadata": {},
     "output_type": "execute_result"
    }
   ],
   "source": [
    "# Your code here:\n",
    "iris.std()\n",
    "\n"
   ]
  },
  {
   "cell_type": "markdown",
   "metadata": {},
   "source": [
    "The measurements are in centimeters. Let's convert them all to inches. First, we will create a dataframe that contains only the numeric columns. Assign this new dataframe to `iris_numeric`."
   ]
  },
  {
   "cell_type": "code",
   "execution_count": 48,
   "metadata": {},
   "outputs": [],
   "source": [
    "# Your code here:\n",
    "iris_numeric = iris[['sepal_length', 'sepal_width', 'petal_length', 'petal_width']]\n"
   ]
  },
  {
   "cell_type": "markdown",
   "metadata": {},
   "source": [
    "Next, we will write a function that converts centimeters to inches in the cell below. Recall that 1cm = 0.393701in."
   ]
  },
  {
   "cell_type": "code",
   "execution_count": 50,
   "metadata": {},
   "outputs": [],
   "source": [
    "def cm_to_in(x):\n",
    "    return x*0.393701\n",
    "    # This function takes in a numeric value in centimeters and converts it to inches\n",
    "    # Input: numeric value\n",
    "    # Output: float\n",
    "    \n",
    "    # Sample Input: 1.0\n",
    "    # Sample Output: 0.393701\n",
    "    \n",
    "    # Your code here:\n",
    "    "
   ]
  },
  {
   "cell_type": "markdown",
   "metadata": {},
   "source": [
    "Now convert all columns in `iris_numeric` to inches in the cell below. We like to think of functional transformations as immutable. Therefore, save the transformed data in a dataframe called `iris_inch`."
   ]
  },
  {
   "cell_type": "code",
   "execution_count": 52,
   "metadata": {},
   "outputs": [
    {
     "name": "stdout",
     "output_type": "stream",
     "text": [
      "   sepal_length  sepal_width  petal_length  petal_width\n",
      "0      2.007875     1.377954      0.551181      0.07874\n",
      "1      1.929135     1.181103      0.551181      0.07874\n",
      "2      1.850395     1.259843      0.511811      0.07874\n",
      "3      1.811025     1.220473      0.590552      0.07874\n",
      "4      1.968505     1.417324      0.551181      0.07874\n"
     ]
    }
   ],
   "source": [
    "# Your code here:\n",
    "\n",
    "iris_inch = cm_to_in(iris_numeric)\n",
    "print(iris_inch.head())"
   ]
  },
  {
   "cell_type": "markdown",
   "metadata": {},
   "source": [
    "We have just found that the original measurements were off by a constant. Define the global constant `error` and set it to 2. Write a function that uses the global constant and adds it to each cell in the dataframe. Apply this function to `iris_numeric` and save the result in `iris_constant`."
   ]
  },
  {
   "cell_type": "code",
   "execution_count": 54,
   "metadata": {},
   "outputs": [
    {
     "name": "stdout",
     "output_type": "stream",
     "text": [
      "   sepal_length  sepal_width  petal_length  petal_width\n",
      "0           7.1          5.5           3.4          2.2\n",
      "1           6.9          5.0           3.4          2.2\n",
      "2           6.7          5.2           3.3          2.2\n",
      "3           6.6          5.1           3.5          2.2\n",
      "4           7.0          5.6           3.4          2.2\n"
     ]
    }
   ],
   "source": [
    "# Define constant below:\n",
    "error = 2\n",
    "\n",
    "def add_constant(x):\n",
    "    return x + error\n",
    "    # This function adds a global constant to our input.\n",
    "    # Input: numeric value\n",
    "    # Output: numeric value\n",
    "    \n",
    "    # Your code here:\n",
    "iris_constant = add_constant(iris_numeric)\n",
    "print(iris_constant.head())"
   ]
  },
  {
   "cell_type": "markdown",
   "metadata": {},
   "source": [
    "# Bonus Challenge - Applying Functions to Columns\n",
    "\n",
    "Read more about applying functions to either rows or columns [here](https://pandas.pydata.org/pandas-docs/stable/generated/pandas.DataFrame.apply.html) and write a function that computes the maximum value for each row of `iris_numeric`"
   ]
  },
  {
   "cell_type": "code",
   "execution_count": 56,
   "metadata": {},
   "outputs": [
    {
     "name": "stdout",
     "output_type": "stream",
     "text": [
      "0    5.1\n",
      "1    4.9\n",
      "2    4.7\n",
      "3    4.6\n",
      "4    5.0\n",
      "dtype: float64\n"
     ]
    }
   ],
   "source": [
    "# Your code here:\n",
    "print(iris_numeric.max(axis=1).head())\n"
   ]
  },
  {
   "cell_type": "markdown",
   "metadata": {},
   "source": [
    "Compute the combined lengths for each row and the combined widths for each row using a function. Assign these values to new columns `total_length` and `total_width`."
   ]
  },
  {
   "cell_type": "code",
   "execution_count": 58,
   "metadata": {},
   "outputs": [
    {
     "name": "stdout",
     "output_type": "stream",
     "text": [
      "     sepal_length  sepal_width  petal_length  petal_width  total_length  \\\n",
      "0             5.1          3.5           1.4          0.2           6.5   \n",
      "1             4.9          3.0           1.4          0.2           6.3   \n",
      "2             4.7          3.2           1.3          0.2           6.0   \n",
      "3             4.6          3.1           1.5          0.2           6.1   \n",
      "4             5.0          3.6           1.4          0.2           6.4   \n",
      "5             5.4          3.9           1.7          0.4           7.1   \n",
      "6             4.6          3.4           1.4          0.3           6.0   \n",
      "7             5.0          3.4           1.5          0.2           6.5   \n",
      "8             4.4          2.9           1.4          0.2           5.8   \n",
      "9             4.9          3.1           1.5          0.1           6.4   \n",
      "10            5.4          3.7           1.5          0.2           6.9   \n",
      "11            4.8          3.4           1.6          0.2           6.4   \n",
      "12            4.8          3.0           1.4          0.1           6.2   \n",
      "13            4.3          3.0           1.1          0.1           5.4   \n",
      "14            5.8          4.0           1.2          0.2           7.0   \n",
      "15            5.7          4.4           1.5          0.4           7.2   \n",
      "16            5.4          3.9           1.3          0.4           6.7   \n",
      "17            5.1          3.5           1.4          0.3           6.5   \n",
      "18            5.7          3.8           1.7          0.3           7.4   \n",
      "19            5.1          3.8           1.5          0.3           6.6   \n",
      "20            5.4          3.4           1.7          0.2           7.1   \n",
      "21            5.1          3.7           1.5          0.4           6.6   \n",
      "22            4.6          3.6           1.0          0.2           5.6   \n",
      "23            5.1          3.3           1.7          0.5           6.8   \n",
      "24            4.8          3.4           1.9          0.2           6.7   \n",
      "25            5.0          3.0           1.6          0.2           6.6   \n",
      "26            5.0          3.4           1.6          0.4           6.6   \n",
      "27            5.2          3.5           1.5          0.2           6.7   \n",
      "28            5.2          3.4           1.4          0.2           6.6   \n",
      "29            4.7          3.2           1.6          0.2           6.3   \n",
      "..            ...          ...           ...          ...           ...   \n",
      "120           6.9          3.2           5.7          2.3          12.6   \n",
      "121           5.6          2.8           4.9          2.0          10.5   \n",
      "122           7.7          2.8           6.7          2.0          14.4   \n",
      "123           6.3          2.7           4.9          1.8          11.2   \n",
      "124           6.7          3.3           5.7          2.1          12.4   \n",
      "125           7.2          3.2           6.0          1.8          13.2   \n",
      "126           6.2          2.8           4.8          1.8          11.0   \n",
      "127           6.1          3.0           4.9          1.8          11.0   \n",
      "128           6.4          2.8           5.6          2.1          12.0   \n",
      "129           7.2          3.0           5.8          1.6          13.0   \n",
      "130           7.4          2.8           6.1          1.9          13.5   \n",
      "131           7.9          3.8           6.4          2.0          14.3   \n",
      "132           6.4          2.8           5.6          2.2          12.0   \n",
      "133           6.3          2.8           5.1          1.5          11.4   \n",
      "134           6.1          2.6           5.6          1.4          11.7   \n",
      "135           7.7          3.0           6.1          2.3          13.8   \n",
      "136           6.3          3.4           5.6          2.4          11.9   \n",
      "137           6.4          3.1           5.5          1.8          11.9   \n",
      "138           6.0          3.0           4.8          1.8          10.8   \n",
      "139           6.9          3.1           5.4          2.1          12.3   \n",
      "140           6.7          3.1           5.6          2.4          12.3   \n",
      "141           6.9          3.1           5.1          2.3          12.0   \n",
      "142           5.8          2.7           5.1          1.9          10.9   \n",
      "143           6.8          3.2           5.9          2.3          12.7   \n",
      "144           6.7          3.3           5.7          2.5          12.4   \n",
      "145           6.7          3.0           5.2          2.3          11.9   \n",
      "146           6.3          2.5           5.0          1.9          11.3   \n",
      "147           6.5          3.0           5.2          2.0          11.7   \n",
      "148           6.2          3.4           5.4          2.3          11.6   \n",
      "149           5.9          3.0           5.1          1.8          11.0   \n",
      "\n",
      "     total_width  \n",
      "0            3.7  \n",
      "1            3.2  \n",
      "2            3.4  \n",
      "3            3.3  \n",
      "4            3.8  \n",
      "5            4.3  \n",
      "6            3.7  \n",
      "7            3.6  \n",
      "8            3.1  \n",
      "9            3.2  \n",
      "10           3.9  \n",
      "11           3.6  \n",
      "12           3.1  \n",
      "13           3.1  \n",
      "14           4.2  \n",
      "15           4.8  \n",
      "16           4.3  \n",
      "17           3.8  \n",
      "18           4.1  \n",
      "19           4.1  \n",
      "20           3.6  \n",
      "21           4.1  \n",
      "22           3.8  \n",
      "23           3.8  \n",
      "24           3.6  \n",
      "25           3.2  \n",
      "26           3.8  \n",
      "27           3.7  \n",
      "28           3.6  \n",
      "29           3.4  \n",
      "..           ...  \n",
      "120          5.5  \n",
      "121          4.8  \n",
      "122          4.8  \n",
      "123          4.5  \n",
      "124          5.4  \n",
      "125          5.0  \n",
      "126          4.6  \n",
      "127          4.8  \n",
      "128          4.9  \n",
      "129          4.6  \n",
      "130          4.7  \n",
      "131          5.8  \n",
      "132          5.0  \n",
      "133          4.3  \n",
      "134          4.0  \n",
      "135          5.3  \n",
      "136          5.8  \n",
      "137          4.9  \n",
      "138          4.8  \n",
      "139          5.2  \n",
      "140          5.5  \n",
      "141          5.4  \n",
      "142          4.6  \n",
      "143          5.5  \n",
      "144          5.8  \n",
      "145          5.3  \n",
      "146          4.4  \n",
      "147          5.0  \n",
      "148          5.7  \n",
      "149          4.8  \n",
      "\n",
      "[150 rows x 6 columns]\n"
     ]
    },
    {
     "ename": "AttributeError",
     "evalue": "'NoneType' object has no attribute 'head'",
     "output_type": "error",
     "traceback": [
      "\u001b[0;31m---------------------------------------------------------------------------\u001b[0m",
      "\u001b[0;31mAttributeError\u001b[0m                            Traceback (most recent call last)",
      "\u001b[0;32m<ipython-input-58-5c6393a784a7>\u001b[0m in \u001b[0;36m<module>\u001b[0;34m\u001b[0m\n\u001b[1;32m      2\u001b[0m \u001b[0miris_numeric\u001b[0m\u001b[0;34m[\u001b[0m\u001b[0;34m'total_length'\u001b[0m\u001b[0;34m]\u001b[0m\u001b[0;34m=\u001b[0m\u001b[0miris_numeric\u001b[0m\u001b[0;34m[\u001b[0m\u001b[0;34m'sepal_length'\u001b[0m\u001b[0;34m]\u001b[0m\u001b[0;34m+\u001b[0m\u001b[0miris_numeric\u001b[0m\u001b[0;34m[\u001b[0m\u001b[0;34m'petal_length'\u001b[0m\u001b[0;34m]\u001b[0m\u001b[0;34m\u001b[0m\u001b[0;34m\u001b[0m\u001b[0m\n\u001b[1;32m      3\u001b[0m \u001b[0miris_numeric\u001b[0m\u001b[0;34m[\u001b[0m\u001b[0;34m'total_width'\u001b[0m\u001b[0;34m]\u001b[0m\u001b[0;34m=\u001b[0m\u001b[0miris_numeric\u001b[0m\u001b[0;34m[\u001b[0m\u001b[0;34m'sepal_width'\u001b[0m\u001b[0;34m]\u001b[0m\u001b[0;34m+\u001b[0m\u001b[0miris_numeric\u001b[0m\u001b[0;34m[\u001b[0m\u001b[0;34m'petal_width'\u001b[0m\u001b[0;34m]\u001b[0m\u001b[0;34m\u001b[0m\u001b[0;34m\u001b[0m\u001b[0m\n\u001b[0;32m----> 4\u001b[0;31m \u001b[0mprint\u001b[0m\u001b[0;34m(\u001b[0m\u001b[0miris_numeric\u001b[0m\u001b[0;34m)\u001b[0m\u001b[0;34m.\u001b[0m\u001b[0mhead\u001b[0m\u001b[0;34m(\u001b[0m\u001b[0;34m)\u001b[0m\u001b[0;34m\u001b[0m\u001b[0;34m\u001b[0m\u001b[0m\n\u001b[0m\u001b[1;32m      5\u001b[0m \u001b[0;34m\u001b[0m\u001b[0m\n",
      "\u001b[0;31mAttributeError\u001b[0m: 'NoneType' object has no attribute 'head'"
     ]
    }
   ],
   "source": [
    "# Your code here:\n",
    "iris_numeric['total_length']=iris_numeric['sepal_length']+iris_numeric['petal_length']\n",
    "iris_numeric['total_width']=iris_numeric['sepal_width']+iris_numeric['petal_width']\n",
    "print(iris_numeric).head()\n",
    "\n"
   ]
  },
  {
   "cell_type": "code",
   "execution_count": null,
   "metadata": {},
   "outputs": [],
   "source": []
  }
 ],
 "metadata": {
  "kernelspec": {
   "display_name": "Python 3",
   "language": "python",
   "name": "python3"
  },
  "language_info": {
   "codemirror_mode": {
    "name": "ipython",
    "version": 3
   },
   "file_extension": ".py",
   "mimetype": "text/x-python",
   "name": "python",
   "nbconvert_exporter": "python",
   "pygments_lexer": "ipython3",
   "version": "3.7.3"
  }
 },
 "nbformat": 4,
 "nbformat_minor": 2
}
